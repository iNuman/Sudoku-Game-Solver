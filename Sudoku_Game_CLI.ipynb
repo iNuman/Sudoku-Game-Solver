{
 "cells": [
  {
   "cell_type": "markdown",
   "metadata": {},
   "source": [
    "# Sudoku Game CLI"
   ]
  },
  {
   "cell_type": "code",
   "execution_count": 1,
   "metadata": {},
   "outputs": [],
   "source": [
    "board = [\n",
    "        [7, 8, 0, 4, 0, 0, 1, 2, 0],\n",
    "        [6, 0, 0, 0, 7, 5, 0, 0, 9],\n",
    "        [0, 0, 0, 6, 0, 1, 0, 7, 8],\n",
    "        [0, 0, 7, 0, 4, 0, 2, 6, 0],\n",
    "        [0, 0, 1, 0, 5, 0, 9, 3, 0],\n",
    "        [9, 0, 4, 0, 6, 0, 0, 0, 5],\n",
    "        [0, 7, 0, 3, 0, 0, 0, 1, 2],\n",
    "        [1, 2, 0, 0, 0, 7, 4, 0, 0],\n",
    "        [0, 4, 9, 2, 0, 6, 0, 0, 7]\n",
    "    ]"
   ]
  },
  {
   "cell_type": "markdown",
   "metadata": {},
   "source": [
    "## Board Solving Method"
   ]
  },
  {
   "cell_type": "code",
   "execution_count": 2,
   "metadata": {},
   "outputs": [],
   "source": [
    "# Algorithm\n",
    "def solve(bo):\n",
    "    \n",
    "#     print(bo) # to check the solving step by step\n",
    "    find = find_empty(bo)\n",
    "    if not find:\n",
    "        return True\n",
    "    else:\n",
    "        row, col = find\n",
    "        \n",
    "    for i in range(1,10): # looping through 1 to 9\n",
    "        \n",
    "        if valid(bo, i, (row, col)): # Checking for the validation\n",
    "            bo[row][col] = i     # Addignt these values into board\n",
    "            \n",
    "            if solve(bo):   # Recursively try to finish the solution\n",
    "                return True\n",
    "            \n",
    "            \n",
    "            bo[row][col] = 0 # this will be use for backtracking\n",
    "            \n",
    "    return False # after looping through all the numbers and none of them are valid so will return false\n",
    "        "
   ]
  },
  {
   "cell_type": "markdown",
   "metadata": {},
   "source": [
    "## Validation"
   ]
  },
  {
   "cell_type": "code",
   "execution_count": 3,
   "metadata": {},
   "outputs": [],
   "source": [
    "# Validation Check\n",
    "# Here num is the number we inserted\n",
    "\n",
    "def valid(bo, num, pos):\n",
    "#     Check Row\n",
    "    for i in range(len(bo[0])):\n",
    "        if bo[pos[0]][i] == num and pos[1] != i:\n",
    "            return False\n",
    "        \n",
    "#     Check Column\n",
    "    for i in range(len(bo)):\n",
    "        if bo[i][pos[1]] == num and pos[0] != i:\n",
    "            return False\n",
    "        \n",
    "#     Now this check is to find which box we're in from any of 9 boxes\n",
    "#     Check Box\n",
    "    box_x = pos[1] // 3\n",
    "    box_y = pos[0] // 3\n",
    "    \n",
    "    for i in range(box_y * 3, box_y*3 + 3):\n",
    "        for j in range(box_x * 3, box_x*3 + 3):\n",
    "            if bo[i][j] == num and (i, j) != pos:\n",
    "                return False\n",
    "    return True"
   ]
  },
  {
   "cell_type": "markdown",
   "metadata": {},
   "source": [
    "## Printing Board"
   ]
  },
  {
   "cell_type": "code",
   "execution_count": 4,
   "metadata": {},
   "outputs": [],
   "source": [
    "def print_board(bo):\n",
    "    for i in range(len(bo)):\n",
    "        if i % 3 == 0 and i != 0:\n",
    "            print(\"- - - - - - - - - - - - \")\n",
    "            \n",
    "        \n",
    "        for j in range(len(bo[0])):\n",
    "            if j % 3 == 0  and j != 0:\n",
    "                print(\" | \", end=\"\") # end will prevent the numbers to move to new line\n",
    "                \n",
    "            \n",
    "            if j == 8:\n",
    "                print(bo[i][j])\n",
    "            else:\n",
    "                print(str(bo[i][j]) +\" \", end=\"\")"
   ]
  },
  {
   "cell_type": "code",
   "execution_count": 5,
   "metadata": {},
   "outputs": [
    {
     "name": "stdout",
     "output_type": "stream",
     "text": [
      "_______Sudoku Board_____\n",
      "\n",
      "7 8 0  | 4 0 0  | 1 2 0\n",
      "6 0 0  | 0 7 5  | 0 0 9\n",
      "0 0 0  | 6 0 1  | 0 7 8\n",
      "- - - - - - - - - - - - \n",
      "0 0 7  | 0 4 0  | 2 6 0\n",
      "0 0 1  | 0 5 0  | 9 3 0\n",
      "9 0 4  | 0 6 0  | 0 0 5\n",
      "- - - - - - - - - - - - \n",
      "0 7 0  | 3 0 0  | 0 1 2\n",
      "1 2 0  | 0 0 7  | 4 0 0\n",
      "0 4 9  | 2 0 6  | 0 0 7\n"
     ]
    }
   ],
   "source": [
    "print(\"_______Sudoku Board_____\")\n",
    "print(\"\")\n",
    "print_board(board)"
   ]
  },
  {
   "cell_type": "markdown",
   "metadata": {},
   "source": [
    "### This function gona find some empty square and we need to return the position of that square\n",
    "### This will be the position where we gona try different position\n",
    "### In the above board empty means zero"
   ]
  },
  {
   "cell_type": "markdown",
   "metadata": {},
   "source": [
    "\n",
    "def find_empty(bo):\n",
    "    for i in range(len(bo)):\n",
    "        for j in range(len(bo)):\n",
    "            if bo[i][j] == 0:\n",
    "                return (i, j) # here i means row and j means column\n",
    "    return None\n",
    "    \n",
    "\n",
    "    "
   ]
  },
  {
   "cell_type": "code",
   "execution_count": 7,
   "metadata": {},
   "outputs": [
    {
     "name": "stdout",
     "output_type": "stream",
     "text": [
      "__________Solved________\n",
      "\n",
      "7 8 5  | 4 3 9  | 1 2 6\n",
      "6 1 2  | 8 7 5  | 3 4 9\n",
      "4 9 3  | 6 2 1  | 5 7 8\n",
      "- - - - - - - - - - - - \n",
      "8 5 7  | 9 4 3  | 2 6 1\n",
      "2 6 1  | 7 5 8  | 9 3 4\n",
      "9 3 4  | 1 6 2  | 7 8 5\n",
      "- - - - - - - - - - - - \n",
      "5 7 8  | 3 9 4  | 6 1 2\n",
      "1 2 6  | 5 8 7  | 4 9 3\n",
      "3 4 9  | 2 1 6  | 8 5 7\n"
     ]
    }
   ],
   "source": [
    "solve(board)\n",
    "print(\"__________Solved________\")\n",
    "print(\"\")\n",
    "print_board(board)"
   ]
  },
  {
   "cell_type": "code",
   "execution_count": null,
   "metadata": {},
   "outputs": [],
   "source": []
  }
 ],
 "metadata": {
  "kernelspec": {
   "display_name": "Python 3",
   "language": "python",
   "name": "python3"
  },
  "language_info": {
   "codemirror_mode": {
    "name": "ipython",
    "version": 3
   },
   "file_extension": ".py",
   "mimetype": "text/x-python",
   "name": "python",
   "nbconvert_exporter": "python",
   "pygments_lexer": "ipython3",
   "version": "3.7.4"
  }
 },
 "nbformat": 4,
 "nbformat_minor": 4
}
