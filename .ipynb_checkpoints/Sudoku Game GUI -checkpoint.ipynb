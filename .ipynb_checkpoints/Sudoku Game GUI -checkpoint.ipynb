{
 "cells": [
  {
   "cell_type": "markdown",
   "metadata": {},
   "source": [
    "# Heading 1"
   ]
  },
  {
   "cell_type": "code",
   "execution_count": 2,
   "metadata": {},
   "outputs": [
    {
     "name": "stdout",
     "output_type": "stream",
     "text": [
      "pygame 1.9.6\n",
      "Hello from the pygame community. https://www.pygame.org/contribute.html\n",
      "_______Sudoku Board_____\n",
      "\n",
      "7 8 0  | 4 0 0  | 1 2 0\n",
      "6 0 0  | 0 7 5  | 0 0 9\n",
      "0 0 0  | 6 0 1  | 0 7 8\n",
      "- - - - - - - - - - - - \n",
      "0 0 7  | 0 4 0  | 2 6 0\n",
      "0 0 1  | 0 5 0  | 9 3 0\n",
      "9 0 4  | 0 6 0  | 0 0 5\n",
      "- - - - - - - - - - - - \n",
      "0 7 0  | 3 0 0  | 0 1 2\n",
      "1 2 0  | 0 0 7  | 4 0 0\n",
      "0 4 9  | 2 0 6  | 0 0 7\n",
      "__________Solved________\n",
      "\n",
      "7 8 5  | 4 3 9  | 1 2 6\n",
      "6 1 2  | 8 7 5  | 3 4 9\n",
      "4 9 3  | 6 2 1  | 5 7 8\n",
      "- - - - - - - - - - - - \n",
      "8 5 7  | 9 4 3  | 2 6 1\n",
      "2 6 1  | 7 5 8  | 9 3 4\n",
      "9 3 4  | 1 6 2  | 7 8 5\n",
      "- - - - - - - - - - - - \n",
      "5 7 8  | 3 9 4  | 6 1 2\n",
      "1 2 6  | 5 8 7  | 4 9 3\n",
      "3 4 9  | 2 1 6  | 8 5 7\n"
     ]
    }
   ],
   "source": [
    "import pygame\n",
    "%run Sudoku_Game_CLI.ipynb import valid, solve"
   ]
  },
  {
   "cell_type": "code",
   "execution_count": null,
   "metadata": {},
   "outputs": [],
   "source": []
  }
 ],
 "metadata": {
  "kernelspec": {
   "display_name": "Python 3",
   "language": "python",
   "name": "python3"
  },
  "language_info": {
   "codemirror_mode": {
    "name": "ipython",
    "version": 3
   },
   "file_extension": ".py",
   "mimetype": "text/x-python",
   "name": "python",
   "nbconvert_exporter": "python",
   "pygments_lexer": "ipython3",
   "version": "3.7.4"
  }
 },
 "nbformat": 4,
 "nbformat_minor": 4
}
